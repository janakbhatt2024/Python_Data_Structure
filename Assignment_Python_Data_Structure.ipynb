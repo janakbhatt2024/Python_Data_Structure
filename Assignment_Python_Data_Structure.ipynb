{
  "nbformat": 4,
  "nbformat_minor": 0,
  "metadata": {
    "colab": {
      "provenance": []
    },
    "kernelspec": {
      "name": "python3",
      "display_name": "Python 3"
    },
    "language_info": {
      "name": "python"
    }
  },
  "cells": [
    {
      "cell_type": "markdown",
      "source": [
        "Q1. Discuss string slicing and provide examples\n",
        "\n",
        "Answer : String slicing in Python refers to extracting a portion (substring) of a string using a special syntax.\n",
        "\n",
        "The syntax for slicing is as follows:\n",
        "\n",
        "string[start:end:step]"
      ],
      "metadata": {
        "id": "BdgiIlw2buzS"
      }
    },
    {
      "cell_type": "markdown",
      "source": [
        "String slicing examples"
      ],
      "metadata": {
        "id": "cueespZGcq5R"
      }
    },
    {
      "cell_type": "code",
      "source": [
        "#Example-1 Extracting a substring with step size:\n",
        "text = \"abcdefgh\"\n",
        "print(text[1:7:2])  # Output: bdf (start at index 1, up to index 7, with a step of 2)\n"
      ],
      "metadata": {
        "colab": {
          "base_uri": "https://localhost:8080/"
        },
        "id": "CWOhqpCdcpDn",
        "outputId": "4f66d815-6386-4fb7-ffdb-9b2d5c97afa4"
      },
      "execution_count": 2,
      "outputs": [
        {
          "output_type": "stream",
          "name": "stdout",
          "text": [
            "bdf\n"
          ]
        }
      ]
    },
    {
      "cell_type": "code",
      "source": [
        "#Example-2 Reversing a string using slicing:\n",
        "text = \"Python\"\n",
        "print(text[::-1])  # Output: nohtyP (reverse the string)\n",
        "\n"
      ],
      "metadata": {
        "colab": {
          "base_uri": "https://localhost:8080/"
        },
        "id": "jYf0bzTHc-MV",
        "outputId": "f54831ac-8b9f-4b65-c4e9-4eca528fe162"
      },
      "execution_count": 3,
      "outputs": [
        {
          "output_type": "stream",
          "name": "stdout",
          "text": [
            "nohtyP\n"
          ]
        }
      ]
    },
    {
      "cell_type": "markdown",
      "source": [
        "Q2. Explain the key features of lists in Python\n",
        "\n",
        "Answer: Below are Key features of lists:\n",
        "\n",
        "Ordered: Maintains the order of elements.\n",
        "\n",
        "Mutable: Can be changed (added, removed, modified).\n",
        "\n",
        "Allows duplicates: Can contain the same element multiple times.\n",
        "\n",
        "Mixed data types: Can store elements of different types.\n",
        "\n",
        "Supports slicing: Can extract sublists using start, end, and step indices.\n",
        "\n",
        "Dynamic size: The size of a list is flexible.\n",
        "\n",
        "Built-in methods: Provides methods for common operations like adding, removing, and sorting.\n",
        "\n",
        "Nested lists: Can contain other lists inside them.\n",
        "\n",
        "Iterable: Can be iterated over with loops.\n",
        "\n",
        "Below are some examples to understand key features of list:"
      ],
      "metadata": {
        "id": "OFK3mInAeRVA"
      }
    },
    {
      "cell_type": "code",
      "source": [
        "# Example-1\n",
        "\n",
        "my_list = [10, 20, 30]\n",
        "print(my_list[0])  # Output: 10 (first element)\n"
      ],
      "metadata": {
        "colab": {
          "base_uri": "https://localhost:8080/"
        },
        "id": "ExTw5JBRe8UI",
        "outputId": "1891c564-0f66-4fbf-f1fb-9e28c843ace9"
      },
      "execution_count": 5,
      "outputs": [
        {
          "output_type": "stream",
          "name": "stdout",
          "text": [
            "10\n"
          ]
        }
      ]
    },
    {
      "cell_type": "code",
      "source": [
        "# Example-2\n",
        "my_list = [10, 20, 30]\n",
        "my_list[1] = 25  # Change second element\n",
        "print(my_list)  # Output: [10, 25, 30]\n"
      ],
      "metadata": {
        "colab": {
          "base_uri": "https://localhost:8080/"
        },
        "id": "9Yr0RhvOfMl6",
        "outputId": "1d0f0333-8433-4f55-aaca-90ce4e07dcee"
      },
      "execution_count": 4,
      "outputs": [
        {
          "output_type": "stream",
          "name": "stdout",
          "text": [
            "[10, 25, 30]\n"
          ]
        }
      ]
    },
    {
      "cell_type": "code",
      "source": [
        "# Example-3\n",
        "my_list = [3, 1, 2]\n",
        "my_list.append(4)       # Add 4 to the end\n",
        "my_list.sort()          # Sort the list\n",
        "print(my_list)  # Output: [1, 2, 3, 4]\n"
      ],
      "metadata": {
        "colab": {
          "base_uri": "https://localhost:8080/"
        },
        "id": "axq8s9_BfXj5",
        "outputId": "a08f63b6-55f3-4047-a57c-59adc6e50389"
      },
      "execution_count": 6,
      "outputs": [
        {
          "output_type": "stream",
          "name": "stdout",
          "text": [
            "[1, 2, 3, 4]\n"
          ]
        }
      ]
    },
    {
      "cell_type": "markdown",
      "source": [
        "Q3. Describe how to access, modify, and delete elements in a list with examples\n",
        "\n",
        "Answer: In Python, lists are mutable, meaning you can easily access, modify, and delete elements.\n",
        "\n",
        "Below are examples:"
      ],
      "metadata": {
        "id": "QgEEO-zqfrev"
      }
    },
    {
      "cell_type": "code",
      "source": [
        "#Example-1 Accessing List Elements:\n",
        "my_list = [10, 20, 30, 40, 50]\n",
        "\n",
        "# Accessing elements using positive indexing\n",
        "print(my_list[0])  # Output: 10 (first element)\n",
        "print(my_list[2])  # Output: 30 (third element)\n",
        "\n",
        "# Accessing elements using negative indexing\n",
        "print(my_list[-1])  # Output: 50 (last element)\n",
        "print(my_list[-2])  # Output: 40 (second-to-last element)\n"
      ],
      "metadata": {
        "colab": {
          "base_uri": "https://localhost:8080/"
        },
        "id": "rZq4dkk5gIbO",
        "outputId": "99494db0-65eb-4726-d352-3c26adbc8689"
      },
      "execution_count": 7,
      "outputs": [
        {
          "output_type": "stream",
          "name": "stdout",
          "text": [
            "10\n",
            "30\n",
            "50\n",
            "40\n"
          ]
        }
      ]
    },
    {
      "cell_type": "code",
      "source": [
        "# Example-2 Modifying List Elements:\n",
        "my_list = [10, 20, 30, 40, 50]\n",
        "\n",
        "# Modifying an element at index 2 (third element)\n",
        "my_list[2] = 100\n",
        "print(my_list)  # Output: [10, 20, 100, 40, 50]\n",
        "\n",
        "# Modifying the last element using negative indexing\n",
        "my_list[-1] = 200\n",
        "print(my_list)  # Output: [10, 20, 100, 40, 200]\n"
      ],
      "metadata": {
        "colab": {
          "base_uri": "https://localhost:8080/"
        },
        "id": "sXv8DyXdgT2o",
        "outputId": "d1725e4b-284c-4663-e723-cb4e5b392986"
      },
      "execution_count": 8,
      "outputs": [
        {
          "output_type": "stream",
          "name": "stdout",
          "text": [
            "[10, 20, 100, 40, 50]\n",
            "[10, 20, 100, 40, 200]\n"
          ]
        }
      ]
    },
    {
      "cell_type": "code",
      "source": [
        "# Example-3 Adding elements:\n",
        "my_list = [10, 20, 30]\n",
        "\n",
        "# Using append to add an element at the end\n",
        "my_list.append(40)\n",
        "print(my_list)  # Output: [10, 20, 30, 40]\n",
        "\n",
        "# Using insert to add an element at a specific index\n",
        "my_list.insert(2, 25)  # Insert 25 at index 2\n",
        "print(my_list)  # Output: [10, 20, 25, 30, 40]\n",
        "\n",
        "# Using extend to add multiple elements at once\n",
        "my_list.extend([50, 60])\n",
        "print(my_list)  # Output: [10, 20, 25, 30, 40, 50, 60]\n"
      ],
      "metadata": {
        "colab": {
          "base_uri": "https://localhost:8080/"
        },
        "id": "79hXzhQvhGcK",
        "outputId": "ed91dcdc-dc70-4f03-f30a-97f12805b761"
      },
      "execution_count": 9,
      "outputs": [
        {
          "output_type": "stream",
          "name": "stdout",
          "text": [
            "[10, 20, 30, 40]\n",
            "[10, 20, 25, 30, 40]\n",
            "[10, 20, 25, 30, 40, 50, 60]\n"
          ]
        }
      ]
    },
    {
      "cell_type": "code",
      "source": [
        "# Example-4 Deleting elements:\n",
        "my_list = [10, 20, 30, 40, 50]\n",
        "\n",
        "# Using del to delete an element by index\n",
        "del my_list[2]  # Remove the element at index 2\n",
        "print(my_list)  # Output: [10, 20, 40, 50]\n",
        "\n",
        "# Using remove() to delete a specific value\n",
        "my_list.remove(40)  # Remove the first occurrence of 40\n",
        "print(my_list)  # Output: [10, 20, 50]\n",
        "\n",
        "# Using pop() to remove and return the last element\n",
        "last_element = my_list.pop()\n",
        "print(last_element)  # Output: 50 (removed element)\n",
        "print(my_list)  # Output: [10, 20]\n",
        "\n",
        "# Using pop() to remove an element at a specific index\n",
        "second_element = my_list.pop(1)  # Remove element at index 1 (second element)\n",
        "print(second_element)  # Output: 20\n",
        "print(my_list)  # Output: [10]\n"
      ],
      "metadata": {
        "colab": {
          "base_uri": "https://localhost:8080/"
        },
        "id": "CiT85AdphVNq",
        "outputId": "b98156f8-6b25-4270-8611-d06666331a5a"
      },
      "execution_count": 13,
      "outputs": [
        {
          "output_type": "stream",
          "name": "stdout",
          "text": [
            "[10, 20, 40, 50]\n",
            "[10, 20, 50]\n",
            "50\n",
            "[10, 20]\n",
            "20\n",
            "[10]\n"
          ]
        }
      ]
    },
    {
      "cell_type": "markdown",
      "source": [
        "Q4. Compare and contrast tuples and lists with examples\n",
        "\n",
        "Answer : Both tuples and lists are used to store collections of items in Python. However, there are several key differences between them in terms of mutability, syntax, performance, and usage. Let's compare and contrast tuples and lists in detail.\n",
        "\n",
        "Comparison of tuples and lists:\n",
        "\n",
        "1. Syntax\n",
        "List: Defined with square brackets [ ].\n",
        "Tuple: Defined with parentheses ( ).\n",
        "2. Mutability\n",
        "List: Mutable (can be modified).\n",
        "Tuple: Immutable (cannot be modified).\n",
        "3. Methods for Adding/Modifying\n",
        "List: Methods like append( ), extend( ), insert( ) to add or modify elements.\n",
        "Tuple: No methods for adding or modifying since it's immutable.\n",
        "4. Use in Dictionaries\n",
        "List: Cannot be used as dictionary keys because lists are mutable and not hashable.\n",
        "Tuple: Can be used as dictionary keys because tuples are immutable and hashable.\n"
      ],
      "metadata": {
        "id": "H4ymfL2liiyO"
      }
    },
    {
      "cell_type": "code",
      "source": [
        "# Example-1 Syntax\n",
        "# List\n",
        "my_list = [1, 2, 3, 4]\n",
        "\n",
        "# Tuple\n",
        "my_tuple = (1, 2, 3, 4)\n"
      ],
      "metadata": {
        "id": "9afNg9f1jpT-"
      },
      "execution_count": 14,
      "outputs": []
    },
    {
      "cell_type": "code",
      "source": [
        "# Example-2 Mutability\n",
        "# Modifying a list (mutable)\n",
        "my_list = [1, 2, 3]\n",
        "my_list[0] = 10  # Modifying the first element\n",
        "print(my_list)  # Output: [10, 2, 3]\n",
        "\n",
        "# Modifying a tuple (immutable)\n",
        "my_tuple = (1, 2, 3)\n",
        "# This will raise an error\n",
        "my_tuple[0] = 10  # TypeError: 'tuple' object does not support item assignment\n",
        "my_tuple\n"
      ],
      "metadata": {
        "colab": {
          "base_uri": "https://localhost:8080/",
          "height": 211
        },
        "id": "w2fP74S-qpWZ",
        "outputId": "ce5a8769-c966-4de4-8129-b5f01d830950"
      },
      "execution_count": 18,
      "outputs": [
        {
          "output_type": "stream",
          "name": "stdout",
          "text": [
            "[10, 2, 3]\n"
          ]
        },
        {
          "output_type": "error",
          "ename": "TypeError",
          "evalue": "'tuple' object does not support item assignment",
          "traceback": [
            "\u001b[0;31m---------------------------------------------------------------------------\u001b[0m",
            "\u001b[0;31mTypeError\u001b[0m                                 Traceback (most recent call last)",
            "\u001b[0;32m<ipython-input-18-e82a9e32326d>\u001b[0m in \u001b[0;36m<cell line: 10>\u001b[0;34m()\u001b[0m\n\u001b[1;32m      8\u001b[0m \u001b[0mmy_tuple\u001b[0m \u001b[0;34m=\u001b[0m \u001b[0;34m(\u001b[0m\u001b[0;36m1\u001b[0m\u001b[0;34m,\u001b[0m \u001b[0;36m2\u001b[0m\u001b[0;34m,\u001b[0m \u001b[0;36m3\u001b[0m\u001b[0;34m)\u001b[0m\u001b[0;34m\u001b[0m\u001b[0;34m\u001b[0m\u001b[0m\n\u001b[1;32m      9\u001b[0m \u001b[0;31m# This will raise an error\u001b[0m\u001b[0;34m\u001b[0m\u001b[0;34m\u001b[0m\u001b[0m\n\u001b[0;32m---> 10\u001b[0;31m \u001b[0mmy_tuple\u001b[0m\u001b[0;34m[\u001b[0m\u001b[0;36m0\u001b[0m\u001b[0;34m]\u001b[0m \u001b[0;34m=\u001b[0m \u001b[0;36m10\u001b[0m  \u001b[0;31m# TypeError: 'tuple' object does not support item assignment\u001b[0m\u001b[0;34m\u001b[0m\u001b[0;34m\u001b[0m\u001b[0m\n\u001b[0m\u001b[1;32m     11\u001b[0m \u001b[0mmy_tuple\u001b[0m\u001b[0;34m\u001b[0m\u001b[0;34m\u001b[0m\u001b[0m\n",
            "\u001b[0;31mTypeError\u001b[0m: 'tuple' object does not support item assignment"
          ]
        }
      ]
    },
    {
      "cell_type": "code",
      "source": [
        "# Example-3 Methods for Adding/Modifying\n",
        "my_list = [1, 2, 3]\n",
        "my_list.append(4)  # Adding 4 to the end\n",
        "print(my_list)  # Output: [1, 2, 3, 4]\n"
      ],
      "metadata": {
        "colab": {
          "base_uri": "https://localhost:8080/"
        },
        "id": "UwAcRg1drGsh",
        "outputId": "f0529574-cf70-4ad1-c33e-089cf9e73eca"
      },
      "execution_count": 19,
      "outputs": [
        {
          "output_type": "stream",
          "name": "stdout",
          "text": [
            "[1, 2, 3, 4]\n"
          ]
        }
      ]
    },
    {
      "cell_type": "markdown",
      "source": [
        "Q5. Describe the key features of sets and provide examples of their use\n",
        "\n",
        "Answer: Key Features of Sets in Python:\n",
        "1. Sets are unordered collections of unique elements.\n",
        "2. Mutable: You can add or remove elements after creation.\n",
        "3. Do not support indexing or slicing.\n",
        "4. Useful for set operations like union, intersection, difference, and symmetric difference.\n",
        "5. Set comprehension can be used to create sets concisely.\n",
        "6. Cannot contain other sets but can contain tuples.\n",
        "7. Membership testing is fast using in.\n",
        "8. Frozensets are immutable sets that can be used as dictionary keys.\n"
      ],
      "metadata": {
        "id": "CW2qATjWr1HF"
      }
    },
    {
      "cell_type": "code",
      "source": [
        "# Example-1 Remove Duplicates\n",
        "my_set = {1, 2, 2, 3, 4, 4, 5}\n",
        "print(my_set)  # Output: {1, 2, 3, 4, 5} (duplicates removed)"
      ],
      "metadata": {
        "colab": {
          "base_uri": "https://localhost:8080/"
        },
        "id": "5ZOhSAP9t1Ve",
        "outputId": "e3493380-07d3-4009-cdb4-78a970525d15"
      },
      "execution_count": 20,
      "outputs": [
        {
          "output_type": "stream",
          "name": "stdout",
          "text": [
            "{1, 2, 3, 4, 5}\n"
          ]
        }
      ]
    },
    {
      "cell_type": "code",
      "source": [
        "# Example-2 Mutable\n",
        "my_set = {1, 2, 3}\n",
        "my_set.add(4)  # Adding 4 to the set\n",
        "print(my_set)"
      ],
      "metadata": {
        "colab": {
          "base_uri": "https://localhost:8080/"
        },
        "id": "6mOg2FqwuIOb",
        "outputId": "6f0d6629-fbf1-4a80-f53e-809d78f0c442"
      },
      "execution_count": 21,
      "outputs": [
        {
          "output_type": "stream",
          "name": "stdout",
          "text": [
            "{1, 2, 3, 4}\n"
          ]
        }
      ]
    },
    {
      "cell_type": "code",
      "source": [
        "# Example-3 Set Operation\n",
        "set1 = {1, 2, 3}\n",
        "set2 = {3, 4, 5}\n",
        "union = set1 | set2  # {1, 2, 3, 4, 5}\n",
        "print(union)\n",
        "intersection = set1 & set2  # {3}\n",
        "print(intersection)\n",
        "difference = set1 - set2  # {1, 2}\n",
        "print(difference)\n",
        "symmetric_diff = set1 ^ set2  # {1, 2, 4, 5}\n",
        "print(symmetric_diff)\n"
      ],
      "metadata": {
        "colab": {
          "base_uri": "https://localhost:8080/"
        },
        "id": "zpgcleO9uPnI",
        "outputId": "ff94d0b8-f140-44d3-a183-037a7104ef82"
      },
      "execution_count": 26,
      "outputs": [
        {
          "output_type": "stream",
          "name": "stdout",
          "text": [
            "{1, 2, 3, 4, 5}\n",
            "{3}\n",
            "{1, 2}\n",
            "{1, 2, 4, 5}\n"
          ]
        }
      ]
    },
    {
      "cell_type": "markdown",
      "source": [
        "Q6. Discuss the use cases of tuples and sets in Python programming\n",
        "\n",
        "Answer :\n",
        "\n",
        "Use Tuples when:\n",
        "\n",
        "You need an ordered collection of immutable items.\n",
        "\n",
        "You want to ensure data integrity by preventing changes.\n",
        "\n",
        "You need to return multiple values from a function.\n",
        "\n",
        "You need to use the collection as a key in a dictionary.\n",
        "\n",
        "Use Sets when:\n",
        "\n",
        "You need to store unique elements and eliminate duplicates.\n",
        "\n",
        "You need efficient membership testing.\n",
        "\n",
        "You need to perform set operations like union, intersection, or difference.\n",
        "\n",
        "Below are use cases of tuples & sets:\n",
        "\n"
      ],
      "metadata": {
        "id": "fPe55HMPvXBg"
      }
    },
    {
      "cell_type": "code",
      "source": [
        "# Use case-1 || Immutable data || Tuple\n",
        "coordinates = (40.7128, -74.0060)  # Latitude and longitude of New York\n"
      ],
      "metadata": {
        "id": "akZRAa1xwPIj"
      },
      "execution_count": null,
      "outputs": []
    },
    {
      "cell_type": "code",
      "source": [
        "# Use case-1 || Heterogeneous Data || Tuple\n",
        "student_info = (\"Alice\", 20, \"Computer Science\")\n",
        "student_info"
      ],
      "metadata": {
        "colab": {
          "base_uri": "https://localhost:8080/"
        },
        "id": "U8v5yRJDwe8D",
        "outputId": "2b331978-571d-4931-a3b2-461b914c63c5"
      },
      "execution_count": 28,
      "outputs": [
        {
          "output_type": "execute_result",
          "data": {
            "text/plain": [
              "('Alice', 20, 'Computer Science')"
            ]
          },
          "metadata": {},
          "execution_count": 28
        }
      ]
    },
    {
      "cell_type": "code",
      "source": [
        "# Use case-3 || Returning Multiple Values from Functions || Tuple\n",
        "def get_min_max(numbers):\n",
        "    return (min(numbers), max(numbers))\n",
        "get_min_max([10, 5, 20, 15])\n"
      ],
      "metadata": {
        "colab": {
          "base_uri": "https://localhost:8080/"
        },
        "id": "Cb4y1eJdw1TC",
        "outputId": "96106c60-c143-4803-aaaf-f424abd95ffc"
      },
      "execution_count": 30,
      "outputs": [
        {
          "output_type": "execute_result",
          "data": {
            "text/plain": [
              "(5, 20)"
            ]
          },
          "metadata": {},
          "execution_count": 30
        }
      ]
    },
    {
      "cell_type": "code",
      "source": [
        "# Use case-1 || Remove Duplicates || Sets\n",
        "my_set = {1, 2, 2, 3, 4, 4, 5}\n",
        "print(my_set)  # Output: {1, 2, 3, 4, 5} (duplicates removed)"
      ],
      "metadata": {
        "colab": {
          "base_uri": "https://localhost:8080/"
        },
        "id": "643ouj96xTW2",
        "outputId": "954cb501-5e0d-423e-e1c7-cd6f35302f95"
      },
      "execution_count": 32,
      "outputs": [
        {
          "output_type": "stream",
          "name": "stdout",
          "text": [
            "{1, 2, 3, 4, 5}\n"
          ]
        }
      ]
    },
    {
      "cell_type": "code",
      "source": [
        "# Use case-2 || Set Operation || Sets\n",
        "set1 = {1, 2, 3}\n",
        "set2 = {3, 4, 5}\n",
        "union = set1 | set2  # {1, 2, 3, 4, 5}\n",
        "print(union)\n",
        "intersection = set1 & set2  # {3}\n",
        "print(intersection)\n",
        "difference = set1 - set2  # {1, 2}\n",
        "print(difference)\n",
        "symmetric_diff = set1 ^ set2  # {1, 2, 4, 5}\n",
        "print(symmetric_diff)"
      ],
      "metadata": {
        "colab": {
          "base_uri": "https://localhost:8080/"
        },
        "id": "Xxy12iU1xaGt",
        "outputId": "0e7f4693-4705-437b-f5a8-26a1205808c8"
      },
      "execution_count": 31,
      "outputs": [
        {
          "output_type": "stream",
          "name": "stdout",
          "text": [
            "{1, 2, 3, 4, 5}\n",
            "{3}\n",
            "{1, 2}\n",
            "{1, 2, 4, 5}\n"
          ]
        }
      ]
    },
    {
      "cell_type": "code",
      "source": [
        "# Use case -3 || Membership Testing || Sets\n",
        "fruits = {\"apple\", \"banana\", \"cherry\"}\n",
        "if \"apple\" in fruits:\n",
        "    print(\"Apple is in the set!\")\n"
      ],
      "metadata": {
        "colab": {
          "base_uri": "https://localhost:8080/"
        },
        "id": "2lj8FrEQx2Oe",
        "outputId": "0f735811-19fa-4ec0-9a4c-b88f7db3b24a"
      },
      "execution_count": 33,
      "outputs": [
        {
          "output_type": "stream",
          "name": "stdout",
          "text": [
            "Apple is in the set!\n"
          ]
        }
      ]
    },
    {
      "cell_type": "markdown",
      "source": [
        "Q7. Describe how to add, modify, and delete items in a dictionary with examples\n",
        "\n",
        "Answer:\n",
        "\n",
        "1. Adding Items to a Dictionary :\n",
        "To add a new item to a dictionary, you assign a value to a new key.\n",
        "\n",
        "2.  Modifying Items in a Dictionary :\n",
        "To modify the value of an existing item, you can simply assign a new value to the key.\n",
        "\n",
        "3. Deleting Items from a Dictionary :\n",
        "You can delete an item from a dictionary using either the del statement or the pop() method.\n",
        "\n",
        "Using del: Removes an item by key.\n",
        "\n",
        "Using pop(): Removes an item by key and returns the value."
      ],
      "metadata": {
        "id": "jXBP3PJCyDCJ"
      }
    },
    {
      "cell_type": "code",
      "source": [
        "# Example-1\n",
        "# Creating an empty dictionary\n",
        "my_dict = {}\n",
        "\n",
        "# Adding a new item with key 'name' and value 'John'\n",
        "my_dict['name'] = 'John'\n",
        "\n",
        "# Adding another item\n",
        "my_dict['age'] = 25\n",
        "\n",
        "print(my_dict)\n"
      ],
      "metadata": {
        "colab": {
          "base_uri": "https://localhost:8080/"
        },
        "id": "h_Go0lBQznRR",
        "outputId": "040221a7-c832-44a9-844b-13bbc4aa1057"
      },
      "execution_count": 35,
      "outputs": [
        {
          "output_type": "stream",
          "name": "stdout",
          "text": [
            "{'name': 'John', 'age': 25}\n"
          ]
        }
      ]
    },
    {
      "cell_type": "code",
      "source": [
        "# Example-2\n",
        "# Modifying the 'age' value\n",
        "my_dict['age'] = 26\n",
        "\n",
        "print(my_dict)\n"
      ],
      "metadata": {
        "colab": {
          "base_uri": "https://localhost:8080/"
        },
        "id": "S5g2WHCwzxr4",
        "outputId": "8ef19e59-f0b9-428c-d86e-5f8288d3dd7f"
      },
      "execution_count": 36,
      "outputs": [
        {
          "output_type": "stream",
          "name": "stdout",
          "text": [
            "{'name': 'John', 'age': 26}\n"
          ]
        }
      ]
    },
    {
      "cell_type": "code",
      "source": [
        "# Example-3\n",
        "# Deleting the 'age' key-value pair using del\n",
        "del my_dict['age']\n",
        "\n",
        "print(my_dict)\n"
      ],
      "metadata": {
        "colab": {
          "base_uri": "https://localhost:8080/"
        },
        "id": "1qossqyG0Cdv",
        "outputId": "60fda320-1968-4923-bbbb-26e2799980f1"
      },
      "execution_count": 37,
      "outputs": [
        {
          "output_type": "stream",
          "name": "stdout",
          "text": [
            "{'name': 'John'}\n"
          ]
        }
      ]
    },
    {
      "cell_type": "code",
      "source": [
        "# Example-4\n",
        "# Using pop() to remove 'name' and capture its value\n",
        "removed_value = my_dict.pop('name')\n",
        "\n",
        "print(my_dict)  # The dictionary is now empty\n",
        "print(\"Removed value:\", removed_value)  # The value of 'name'\n"
      ],
      "metadata": {
        "colab": {
          "base_uri": "https://localhost:8080/"
        },
        "id": "hn2zh4JC0Ga3",
        "outputId": "78f9cf4f-e0b7-4bf8-98c0-28a52899e556"
      },
      "execution_count": 38,
      "outputs": [
        {
          "output_type": "stream",
          "name": "stdout",
          "text": [
            "{}\n",
            "Removed value: John\n"
          ]
        }
      ]
    },
    {
      "cell_type": "markdown",
      "source": [
        "Q8. Discuss the importance of dictionary keys being immutable and provide examples\n",
        "\n",
        "Answer:\n",
        "In Python, dictionary keys must be immutable, which means that they cannot be changed after creation. This is a key characteristic that ensures the integrity and consistency of a dictionary.\n",
        "\n",
        "Immutable Key Types\n",
        "\n",
        "Strings: Since strings are immutable, they are often used as dictionary keys.\n",
        "\n",
        "Tuples: A tuple can be used as a dictionary key, as long as all its elements are immutable. If the tuple contains mutable objects, it still can't be used as a key."
      ],
      "metadata": {
        "id": "n2ScaxRB0hZa"
      }
    },
    {
      "cell_type": "code",
      "source": [
        "# Example\n",
        "my_dict = {'name': 'John', 'age': 30}\n",
        "print(my_dict)"
      ],
      "metadata": {
        "colab": {
          "base_uri": "https://localhost:8080/"
        },
        "id": "GMN4Ge_O-k77",
        "outputId": "55f594e1-2e83-4841-cf34-1b5657dcfd9a"
      },
      "execution_count": 39,
      "outputs": [
        {
          "output_type": "stream",
          "name": "stdout",
          "text": [
            "{'name': 'John', 'age': 30}\n"
          ]
        }
      ]
    }
  ]
}